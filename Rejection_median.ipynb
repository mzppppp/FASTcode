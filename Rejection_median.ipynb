{
 "cells": [
  {
   "cell_type": "code",
   "execution_count": 1,
   "metadata": {},
   "outputs": [],
   "source": [
    "import numpy as np\n",
    "import astropy.io.fits as pf\n",
    "import astropy.table as aptbl\n",
    "import re\n",
    "import matplotlib.pyplot as plt\n",
    "import astropy\n",
    "import astropy.table as aptbl\n",
    "import astropy.units as u\n",
    "from astropy.table import QTable\n",
    "import os\n",
    "from astropy.io import ascii\n",
    "from astropy.io.ascii import masked\n",
    "import gzip\n",
    "#dles = u.dimensionless_unscaled\n",
    "Land = np.logical_and\n",
    "Lor = np.logical_or\n",
    "Lnot = np.logical_not\n",
    "from functools import reduce"
   ]
  },
  {
   "cell_type": "code",
   "execution_count": 2,
   "metadata": {},
   "outputs": [],
   "source": [
    "file = pf.open(\"GaiaSearch\")\n",
    "parallax = file[1].data[\"parallax\"] \n",
    "parallax_over_error = file[1].data[\"parallax_over_error\"]\n",
    "Vs = np.asarray((file[1].data[\"Vra\"], file[1].data[\"Vdec\"])).T\n",
    "Num = file[1].data[\"Num\"]\n",
    "P = file[1].data[\"Period_ms\"]\n",
    "Separation = file[1].data[\"Separation\"]\n",
    "#print(file[1].data.keys())"
   ]
  },
  {
   "cell_type": "code",
   "execution_count": 3,
   "metadata": {},
   "outputs": [],
   "source": [
    "def nan_float(x):\n",
    "    try:\n",
    "        y = float(x)\n",
    "    except ValueError:\n",
    "        y = np.nan\n",
    "    return y"
   ]
  },
  {
   "cell_type": "code",
   "execution_count": 4,
   "metadata": {},
   "outputs": [],
   "source": [
    "P = np.asarray([ nan_float(t) for t in P ])"
   ]
  },
  {
   "cell_type": "code",
   "execution_count": 5,
   "metadata": {},
   "outputs": [],
   "source": [
    "Numset = set(Num)"
   ]
  },
  {
   "cell_type": "code",
   "execution_count": 6,
   "metadata": {},
   "outputs": [],
   "source": [
    "cutchisqr = 9 #3 sigma"
   ]
  },
  {
   "cell_type": "code",
   "execution_count": 7,
   "metadata": {
    "tags": []
   },
   "outputs": [],
   "source": [
    "def calc_cut(Vs):\n",
    "    medianvs = np.median(Vs, axis = 0)\n",
    "    deviations = Vs-medianvs.reshape((1,2))\n",
    "    \n",
    "    stdmag = np.mean((deviations)**2, axis = 0)\n",
    "    covxx = stdmag[0]\n",
    "    covyy = stdmag[1]\n",
    "    covxy = np.mean(deviations[:,0]*deviations[:,1],axis = 0)\n",
    "    cov = np.array([[covxx,covxy],[covxy,covyy]])\n",
    "    E = np.linalg.inv(cov)\n",
    "    chisqr = np.einsum(\"ni,ij,nj->n\",deviations, E, deviations)\n",
    "    #Vmags = np.hypot(Vs[:,0]-medianvs[0],Vs[:,1]-medianvs[1])\n",
    "    ind = chisqr<=cutchisqr\n",
    "    V_keep = Vs[ind]\n",
    "    return(V_keep)"
   ]
  },
  {
   "cell_type": "code",
   "execution_count": 8,
   "metadata": {},
   "outputs": [],
   "source": [
    "LSRs = {}\n",
    "#LSRlist = []\n",
    "for n in Numset:\n",
    "    Vn = Vs[Land(Num == n, parallax_over_error >= 3.0)]\n",
    "    oldlen = len(Vn)+1\n",
    "    while oldlen > len(Vn):\n",
    "        oldlen = len(Vn)\n",
    "        Vn = calc_cut(Vn)\n",
    "    \n",
    "    vlsr = np.median(Vn, axis = 0)\n",
    "    deviations = Vn-vlsr.reshape((1,2))\n",
    "    stdmag = np.mean((deviations)**2, axis = 0)\n",
    "    covxx = stdmag[0]\n",
    "    covyy = stdmag[1]\n",
    "    covxy = np.mean(deviations[:,0]*deviations[:,1],axis = 0)\n",
    "    LSRs[n] = (vlsr,[covxx,covyy,covxy],len(Vn))#(VraLSR, VdecLSR)\n",
    "    "
   ]
  },
  {
   "cell_type": "code",
   "execution_count": 10,
   "metadata": {},
   "outputs": [],
   "source": [
    "#LSRlist = np.array([[\"Num\",\"Vra\",\"Vdec\",\"Sigmaxx\",\"Sigmayy\",\"Sigmaxy\",\"Length\"],[Num,vlsr,vlsr,np.sqrt(covxx),np.sqrt(covyy),np.sqrt(covxy),len(Vn)]])\n",
    "cutchisqr_1 = 9"
   ]
  },
  {
   "cell_type": "code",
   "execution_count": 11,
   "metadata": {},
   "outputs": [],
   "source": [
    "outputdata = []\n",
    "#for coldef in file[1].data.columns:\n",
    "    #cn = coldef.name\n",
    "    #col = file[1].data.columns[cn]\n",
    "    #outcol = []\n",
    "names = [\"Num\", \"Type\", \"Pipeline\", \"Period_ms\", \"RaJ2000_hhmmss\", \"DecJ2000_ddmmss\", \"Binary\", \n",
    "         \"datedetection\", \"col10\", \"col11\", \"col12\", \"col13\", \"col14\", \"col15\", \"col16\", \"col17\", \n",
    "         \"Date_of_discovery\", \"NOTE\", \"col20\", \"col21\", \"col22\", \"col23\", \"DM\", \"GAL_LONG\", \"GAL_LAT\", \"Distance_DM\", \n",
    "         \"source_id\", \"ref_epoch\", \"ra\", \"ra_error\", \"dec\", \"dec_error\", \"parallax\", \"parallax_error\", \"pmra\", \n",
    "         \"pmra_error\", \"pmdec\", \"pmdec_error\", \"ra_dec_corr\", \"ra_parallax_corr\", \"ra_pmra_corr\", \"ra_pmdec_corr\", \n",
    "         \"dec_parallax_corr\", \"dec_pmra_corr\", \"dec_pmdec_corr\", \"parallax_pmra_corr\", \"parallax_pmdec_corr\", \n",
    "         \"pmra_pmdec_corr\", \"dr2_radial_velocity\", \"dr2_radial_velocity_error\", \"dr2_rv_template_teff\", \n",
    "         \"dr2_rv_template_logg\", \"dr2_rv_template_fe_h\", \"Separation\", \"Vra\", \"Vdec\"]\n",
    "#units = [dles, dles, dles, u.ms, u.hourangle, u.deg, dles, dles, dles\n",
    "#                                                            , dles, dles, dles, dles, dles, dles, dles, dles, dles, dles, \n",
    "#                                                           dles, dles, dles, dles, u.deg, u.deg, u.pc, dles, u.yr, u.deg,u.mas,\n",
    "#                                                           u.deg, u.mas, u.mas, u.mas, u.mas/u.yr, u.mas/u.yr, u.mas/u.yr,\n",
    "#                                                           u.mas/u.yr, dles, dles, dles, dles, dles, dles, dles, dles, \n",
    "#                                                            dles, dles, u.km/u.s, u.km/u.s, u.K, u.dex(u.cm/u.s**2), \n",
    "#                                                            u.dex, u.deg, u.km/u.s, u.km/u.s]\n",
    "units = {\"GAL_LONG\": u.deg, \"GAL_LAT\": u.deg, \"ra\": u.deg, \"dec\": u.deg, \n",
    "         \"Separation\": u.deg, \"Distance_DM\": u.pc, \"ref_epoch\": u.yr, \"ra_error\": u.mas, \"dec_error\": u.mas, \n",
    "         \"parallax\": u.mas, \"parallax_error\": u.mas, \"pmra\": u.mas/u.yr, \"pmra_error\": u.mas/u.yr, \"pmdec\": u.mas/u.yr, \n",
    "         \"pmdec_error\": u.mas/u.yr, \"dr2_radial_velocity\": u.km/u.s, \"dr2_radial_velocity_error\": u.km/u.s, \n",
    "        \"Vra\": u.km/u.s, \"Vdec\": u.km/u.s, \"dr2_rv_template_teff\": u.K, \"dr2_rv_template_logg\": u.dex(u.cm/u.s**2), \n",
    "         \"dr2_rv_template_fe_h\": u.dex}\n",
    "for cn in names:\n",
    "    #cn = coldef.name\n",
    "    col = file[1].data[cn]\n",
    "    outcol = []\n",
    "    for n in Numset:\n",
    "        Numind = Land(Num == n, parallax_over_error >= 3.0)\n",
    "        Pn = P[Numind]\n",
    "        if np.any(Pn <= 1e3):\n",
    "           maxSep = 3.0 / 60.0\n",
    "        elif np.any(Pn > 1e3):\n",
    "           maxSep = 5.0 / 60.0\n",
    "        else:\n",
    "           maxSep = 15.0/60.0\n",
    "        Numind = Land(Numind, Separation<=maxSep)\n",
    "        Vn = Vs[Numind]\n",
    "        vlsr,covs,N = LSRs[n]\n",
    "        deviations = Vn-vlsr.reshape((1,2))\n",
    "        covxx,covyy,covxy = covs\n",
    "        cov = np.array([[covxx,covxy],[covxy,covyy]])\n",
    "        E = np.linalg.inv(cov)\n",
    "        chisqr = np.einsum(\"ni,ij,nj->n\",deviations, E, deviations)\n",
    "        ind = chisqr>=cutchisqr_1\n",
    "        #outputdata.append(np.asarray(file[1].data[Numind][ind]))\n",
    "        #outcol.extend(col[Numind][ind])\n",
    "        outcol.extend(col[Numind][ind])\n",
    "    outputdata.append(outcol)\n",
    "\n",
    "outputdata = aptbl.QTable(outputdata, names=names,units = units)"
   ]
  },
  {
   "cell_type": "code",
   "execution_count": 12,
   "metadata": {},
   "outputs": [],
   "source": [
    "class gzwrapper:\n",
    "    def __init__(self, gzfile):\n",
    "        self.gzfile=gzfile\n",
    "    def write(self, line):\n",
    "        return self.gzfile.write(line.encode())"
   ]
  },
  {
   "cell_type": "code",
   "execution_count": 13,
   "metadata": {},
   "outputs": [],
   "source": [
    "#olines = ascii.write(outputdata, format='ipac')\n",
    "#print(olines[0:3])\n",
    "#print(olines)\n",
    "#content = b outputdata\n",
    "#print(type(olines), dir(olines))\n",
    "#olines = ascii.write(outputdata, output = None, format='ipac')\n",
    "#for line in olines:\n",
    "#    f.write(line)\n",
    "with gzip.open('/Users/tomluan/Desktop/ljm/FAST Intern/outputdata.dat.gz', 'w') as f:\n",
    "#    olines = ascii.write(outputdata, output = None, format='ipac')\n",
    "#    for line in olines:\n",
    "#        f.write(line)\n",
    "#    ascii.write(outputdata, output = f, format='ipac')\n",
    "    fwrap = gzwrapper(f)\n",
    "    ascii.write(outputdata, output=fwrap, format=\"ipac\")"
   ]
  },
  {
   "cell_type": "code",
   "execution_count": 14,
   "metadata": {},
   "outputs": [],
   "source": [
    "outputdata[\"name\"] = outputdata[\"source_id\"]\n",
    "with gzip.open('/Users/tomluan/Desktop/ljm/FAST Intern/gaiatargetlist.dat.gz', 'w') as f:\n",
    "    fwrap = gzwrapper(f)\n",
    "    ascii.write(outputdata, output=fwrap, include_names = [\"name\", \"ra\", \"dec\", \"parallax\"], format=\"ipac\")"
   ]
  },
  {
   "cell_type": "code",
   "execution_count": null,
   "metadata": {},
   "outputs": [],
   "source": []
  },
  {
   "cell_type": "code",
   "execution_count": null,
   "metadata": {},
   "outputs": [],
   "source": []
  },
  {
   "cell_type": "code",
   "execution_count": null,
   "metadata": {},
   "outputs": [],
   "source": []
  }
 ],
 "metadata": {
  "kernelspec": {
   "display_name": "Python 3 (ipykernel)",
   "language": "python",
   "name": "python3"
  },
  "language_info": {
   "codemirror_mode": {
    "name": "ipython",
    "version": 3
   },
   "file_extension": ".py",
   "mimetype": "text/x-python",
   "name": "python",
   "nbconvert_exporter": "python",
   "pygments_lexer": "ipython3",
   "version": "3.10.9"
  }
 },
 "nbformat": 4,
 "nbformat_minor": 4
}
